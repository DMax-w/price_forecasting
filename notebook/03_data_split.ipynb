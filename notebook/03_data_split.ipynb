{
 "cells": [
  {
   "metadata": {
    "ExecuteTime": {
     "end_time": "2025-05-10T15:54:04.197077Z",
     "start_time": "2025-05-10T15:54:04.191248Z"
    }
   },
   "cell_type": "code",
   "source": [
    "# ─────────────────────────────────────────────────────────────────────────────\n",
    "# Импорт библиотек и задание путей\n",
    "# ─────────────────────────────────────────────────────────────────────────────\n",
    "from pathlib import Path\n",
    "from datetime import timedelta\n",
    "import pandas as pd, numpy as np, json, warnings, gc\n",
    "warnings.filterwarnings(\"ignore\")\n",
    "\n",
    "ROOT = Path(\"..\")                          # корень репо\n",
    "DATA = ROOT / \"data\"\n",
    "\n",
    "SRC_DIR  = DATA / \"processed_model_ready\"  # исходный датасет (не трогаем)\n",
    "PARQ_IN  = SRC_DIR / \"m5_features_processed.parquet\"\n",
    "\n",
    "DST_DIR  = DATA / \"model_ready\"            # новая «рабочая» папка\n",
    "DST_DIR.mkdir(parents=True, exist_ok=True)\n",
    "PARQ_OUT = DST_DIR / \"m5_features_model.parquet\"\n",
    "\n",
    "SPLITS = DST_DIR / \"splits_wf\"             # индексы train/val\n",
    "SPLITS.mkdir(parents=True, exist_ok=True)"
   ],
   "id": "40dd07225d6dfe79",
   "outputs": [],
   "execution_count": 19
  },
  {
   "metadata": {
    "ExecuteTime": {
     "end_time": "2025-05-10T15:54:11.763130Z",
     "start_time": "2025-05-10T15:54:04.261860Z"
    }
   },
   "cell_type": "code",
   "source": [
    "# ─────────────────────────────────────────────────────────────────────────────\n",
    "# Загрузка исходного Parquet\n",
    "# ─────────────────────────────────────────────────────────────────────────────\n",
    "df = pd.read_parquet(PARQ_IN)\n",
    "print(f\"Loaded: {df.shape[0]:,} rows × {df.shape[1]} columns\")\n",
    "\n",
    "# приведение даты к datetime64\n",
    "if df[\"date\"].dtype != \"datetime64[ns]\":\n",
    "    df[\"date\"] = pd.to_datetime(df[\"date\"])"
   ],
   "id": "89b5562b687d2072",
   "outputs": [
    {
     "name": "stdout",
     "output_type": "stream",
     "text": [
      "Loaded: 58,327,370 rows × 48 columns\n"
     ]
    }
   ],
   "execution_count": 20
  },
  {
   "metadata": {
    "ExecuteTime": {
     "end_time": "2025-05-10T15:55:23.642336Z",
     "start_time": "2025-05-10T15:54:11.822817Z"
    }
   },
   "cell_type": "code",
   "source": [
    "# ─────────────────────────────────────────────────────────────────────────────\n",
    "# Формирование целевых столбцов: лог-цена и «сырая» цена через 28 дней\n",
    "# ─────────────────────────────────────────────────────────────────────────────\n",
    "H = 28  # горизонт\n",
    "\n",
    "df[\"target_raw\"] = df.groupby(\"id\")[\"y_raw\"].shift(-H)\n",
    "df[\"target_log\"] = df.groupby(\"id\")[\"y_log\"].shift(-H)\n",
    "\n",
    "# удаляем хвост, где нет таргета (последние 28 дней в данных)\n",
    "df = df.dropna(subset=[\"target_log\"]).reset_index(drop=True)\n",
    "print(\"After shift :\", df.shape)"
   ],
   "id": "75617417977090ee",
   "outputs": [
    {
     "name": "stdout",
     "output_type": "stream",
     "text": [
      "After shift : (57473650, 50)\n"
     ]
    }
   ],
   "execution_count": 21
  },
  {
   "metadata": {
    "ExecuteTime": {
     "end_time": "2025-05-10T15:55:25.155400Z",
     "start_time": "2025-05-10T15:55:24.459835Z"
    }
   },
   "cell_type": "code",
   "source": [
    "# ─────────────────────────────────────────────────────────────────────────────\n",
    "# Контроль: убеждаемся, что target_log = y_log(t+28) для каждого SKU\n",
    "# ─────────────────────────────────────────────────────────────────────────────\n",
    "aligned = (\n",
    "    (df[\"target_log\"] - df.groupby(\"id\")[\"y_log\"].shift(-H))\n",
    "      .abs().fillna(0) < 1e-6\n",
    ").all()\n",
    "print(\"✓ target_log aligns to y_log(+28d):\", aligned)\n",
    "print(\"✓ NaN in targets:\", df[[\"target_raw\",\"target_log\"]].isna().any().any())"
   ],
   "id": "17864aeb25da3850",
   "outputs": [
    {
     "name": "stdout",
     "output_type": "stream",
     "text": [
      "✓ target_log aligns to y_log(+28d): True\n",
      "✓ NaN in targets: False\n"
     ]
    }
   ],
   "execution_count": 22
  },
  {
   "metadata": {
    "ExecuteTime": {
     "end_time": "2025-05-10T15:55:25.191170Z",
     "start_time": "2025-05-10T15:55:25.177962Z"
    }
   },
   "cell_type": "code",
   "source": [
    "# ─────────────────────────────────────────────────────────────────────────────\n",
    "# Списки признаков и сохранение мета-файла\n",
    "# ─────────────────────────────────────────────────────────────────────────────\n",
    "EXCLUDE = [\n",
    "    \"target_raw\", \"target_log\",          # целевые\n",
    "    \"y_raw\", \"y_log\",                    # исходные цены\n",
    "    \"sales\", \"price_max_365\",            # потенциальная утечка\n",
    "    \"id\", \"d\", \"wm_yr_wk_x\", \"wm_yr_wk_y\", \"d_numeric\"  # служебные\n",
    "]\n",
    "\n",
    "feature_cols = [c for c in df.columns if c not in EXCLUDE]\n",
    "num_cols = [c for c in feature_cols\n",
    "            if df[c].dtype in (\"float32\",\"float64\",\"int16\",\"int8\")]\n",
    "cat_cols = [c for c in feature_cols if df[c].dtype.name == \"category\"]\n",
    "\n",
    "meta = {\n",
    "    \"numerical\":   num_cols,\n",
    "    \"categorical\": cat_cols,\n",
    "    \"all_features\": feature_cols,\n",
    "    \"target_raw\":  \"target_raw\",\n",
    "    \"target_log\":  \"target_log\",\n",
    "    \"horizon_days\": H,\n",
    "}\n",
    "with open(DST_DIR / \"features.json\", \"w\") as fp:\n",
    "    json.dump(meta, fp, indent=2)\n",
    "print(\"✔ features.json saved\")"
   ],
   "id": "2620a97be2a79d80",
   "outputs": [
    {
     "name": "stdout",
     "output_type": "stream",
     "text": [
      "✔ features.json saved\n"
     ]
    }
   ],
   "execution_count": 23
  },
  {
   "metadata": {
    "ExecuteTime": {
     "end_time": "2025-05-10T15:56:09.576962Z",
     "start_time": "2025-05-10T15:55:25.240300Z"
    }
   },
   "cell_type": "code",
   "source": [
    "# ─────────────────────────────────────────────────────────────────────────────\n",
    "# Сохраняем Parquet с таргетами\n",
    "# ─────────────────────────────────────────────────────────────────────────────\n",
    "df.to_parquet(PARQ_OUT, index=False)\n",
    "print(\"✔ Parquet saved →\", PARQ_OUT.relative_to(DATA))"
   ],
   "id": "1b04676e18a8d532",
   "outputs": [
    {
     "name": "stdout",
     "output_type": "stream",
     "text": [
      "✔ Parquet saved → model_ready/m5_features_model.parquet\n"
     ]
    }
   ],
   "execution_count": 24
  },
  {
   "metadata": {
    "ExecuteTime": {
     "end_time": "2025-05-10T15:56:11.274920Z",
     "start_time": "2025-05-10T15:56:09.600029Z"
    }
   },
   "cell_type": "code",
   "source": [
    "# ─────────────────────────────────────────────────────────────────────────────\n",
    "# Генерация индексов для 3-х walk-forward окон (28 дней каждое)\n",
    "# ─────────────────────────────────────────────────────────────────────────────\n",
    "VAL_LAST = pd.Timestamp(\"2016-02-29\")  # крайнее полное окно в данных\n",
    "for k in range(3):\n",
    "    val_start = VAL_LAST - timedelta(days=H * k)\n",
    "    val_end   = val_start + timedelta(days=H)\n",
    "\n",
    "    val_mask  = (df.date >= val_start) & (df.date < val_end)\n",
    "    train_idx = df.index[df.date < val_start].astype(\"int32\")\n",
    "    val_idx   = df.index[val_mask].astype(\"int32\")\n",
    "\n",
    "    np.save(SPLITS / f\"wf_train_idx_k{k}.npy\", train_idx)\n",
    "    np.save(SPLITS / f\"wf_val_idx_k{k}.npy\"  , val_idx)\n",
    "\n",
    "    print(f\"k={k}: train {len(train_idx):,} | val {len(val_idx):,}  \"\n",
    "          f\"({val_start.date()} → {(val_end - timedelta(days=1)).date()})\")\n"
   ],
   "id": "84b182292d7861",
   "outputs": [
    {
     "name": "stdout",
     "output_type": "stream",
     "text": [
      "k=0: train 56,619,930 | val 853,720  (2016-02-29 → 2016-03-27)\n",
      "k=1: train 55,766,210 | val 853,720  (2016-02-01 → 2016-02-28)\n",
      "k=2: train 54,912,490 | val 853,720  (2016-01-04 → 2016-01-31)\n"
     ]
    }
   ],
   "execution_count": 25
  },
  {
   "metadata": {
    "ExecuteTime": {
     "end_time": "2025-05-10T15:56:12.916033Z",
     "start_time": "2025-05-10T15:56:11.282392Z"
    }
   },
   "cell_type": "code",
   "source": [
    "# ─────────────────────────────────────────────────────────────────────────────\n",
    "# Очистка памяти\n",
    "# ─────────────────────────────────────────────────────────────────────────────\n",
    "del df; gc.collect()\n",
    "print(\"\\n✅  model_ready/ содержит Parquet, features.json и splits_wf/\")"
   ],
   "id": "40462cdd977c9722",
   "outputs": [
    {
     "name": "stdout",
     "output_type": "stream",
     "text": [
      "\n",
      "✅  model_ready/ содержит Parquet, features.json и splits_wf/\n"
     ]
    }
   ],
   "execution_count": 26
  }
 ],
 "metadata": {
  "kernelspec": {
   "display_name": "Python 3",
   "language": "python",
   "name": "python3"
  },
  "language_info": {
   "codemirror_mode": {
    "name": "ipython",
    "version": 2
   },
   "file_extension": ".py",
   "mimetype": "text/x-python",
   "name": "python",
   "nbconvert_exporter": "python",
   "pygments_lexer": "ipython2",
   "version": "2.7.6"
  }
 },
 "nbformat": 4,
 "nbformat_minor": 5
}
