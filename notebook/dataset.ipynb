{
 "cells": [
  {
   "metadata": {
    "id": "1c86bb0689a82dd2"
   },
   "cell_type": "markdown",
   "source": [
    "# Прогнозирование цен потребительского ритейла по тестовой выборке на основе глубоких нейронных сетей\n",
    "__Выполнил:__ *Домченко Максим*\n",
    "\n",
    "__Студент группы:__ *РИМ-130962*"
   ],
   "id": "1c86bb0689a82dd2"
  },
  {
   "metadata": {},
   "cell_type": "code",
   "outputs": [],
   "execution_count": null,
   "source": [
    "# Для локального запуска загрузите kaggle.json в ~/.kaggle/kaggle.json и дайте права:\n",
    "# !chmod 600 ~/.kaggle/kaggle.json"
   ],
   "id": "8551fa3d931a5643"
  },
  {
   "metadata": {
    "ExecuteTime": {
     "end_time": "2025-05-02T15:51:36.853257Z",
     "start_time": "2025-05-02T15:51:36.850625Z"
    }
   },
   "cell_type": "code",
   "source": [
    "# Для запуска в colab\n",
    "\n",
    "# from google.colab import files\n",
    "# uploaded = files.upload('/root/.kaggle')\n",
    "# !chmod 600 /root/.kaggle/kaggle.json"
   ],
   "id": "17d70921269c77cb",
   "outputs": [],
   "execution_count": 16
  },
  {
   "metadata": {
    "id": "a2651dd3615738",
    "outputId": "6e5c0121-320f-4fb1-ac8a-c7373d0f758d",
    "colab": {
     "base_uri": "https://localhost:8080/"
    },
    "ExecuteTime": {
     "end_time": "2025-05-02T16:51:32.026574Z",
     "start_time": "2025-05-02T16:49:53.652974Z"
    }
   },
   "cell_type": "code",
   "source": [
    "# 1. Скачиваем данные\n",
    "!kaggle competitions download -p ../data -c favorita-grocery-sales-forecasting --force"
   ],
   "id": "a2651dd3615738",
   "outputs": [
    {
     "name": "stdout",
     "output_type": "stream",
     "text": [
      "Downloading favorita-grocery-sales-forecasting.zip to ../data\r\n",
      " 57%|██████████████████████▉                 | 262M/458M [00:00<00:00, 2.74GB/s]\r\n",
      "100%|████████████████████████████████████████| 458M/458M [00:00<00:00, 2.80GB/s]\r\n"
     ]
    }
   ],
   "execution_count": 37
  },
  {
   "metadata": {
    "ExecuteTime": {
     "end_time": "2025-05-02T16:52:08.544865Z",
     "start_time": "2025-05-02T16:51:33.607168Z"
    }
   },
   "cell_type": "code",
   "source": [
    "# 2. Разархивируем\n",
    "import zipfile\n",
    "import os\n",
    "import py7zr\n",
    "\n",
    "# === Настройки ===\n",
    "zip_path = \"../data/favorita-grocery-sales-forecasting.zip\"        # Укажи путь к ZIP\n",
    "extract_dir = \"../data\"        # Папка для всех извлечений\n",
    "\n",
    "# === Шаг 1: Распаковать ZIP ===\n",
    "os.makedirs(extract_dir, exist_ok=True)\n",
    "with zipfile.ZipFile(zip_path, 'r') as zip_ref:\n",
    "    zip_ref.extractall(extract_dir)\n",
    "\n",
    "# === Шаг 2: Найти и распаковать все .7z архивы ===\n",
    "for root, dirs, files in os.walk(extract_dir):\n",
    "    for file in files:\n",
    "        if file.endswith(\".7z\"):\n",
    "            file_path = os.path.join(root, file)\n",
    "            with py7zr.SevenZipFile(file_path, mode='r') as archive:\n",
    "                archive.extractall(path=extract_dir)\n",
    "            os.remove(file_path)  # Удаляем .7z после распаковки\n",
    "\n",
    "# === Шаг 3: Удалить исходный ZIP ===\n",
    "os.remove(zip_path)\n",
    "\n",
    "print(\"✅ Готово: всё распаковано и исходники удалены.\")"
   ],
   "id": "e7494fc2421054ad",
   "outputs": [
    {
     "name": "stdout",
     "output_type": "stream",
     "text": [
      "✅ Готово: всё распаковано и исходники удалены.\n"
     ]
    }
   ],
   "execution_count": 38
  }
 ],
 "metadata": {
  "kernelspec": {
   "display_name": "Python 3",
   "language": "python",
   "name": "python3"
  },
  "language_info": {
   "codemirror_mode": {
    "name": "ipython",
    "version": 2
   },
   "file_extension": ".py",
   "mimetype": "text/x-python",
   "name": "python",
   "nbconvert_exporter": "python",
   "pygments_lexer": "ipython2",
   "version": "2.7.6"
  },
  "colab": {
   "provenance": []
  }
 },
 "nbformat": 4,
 "nbformat_minor": 5
}
