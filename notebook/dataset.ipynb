{
 "cells": [
  {
   "metadata": {},
   "cell_type": "markdown",
   "source": [
    "# Прогнозирование цен потребительского ритейла по тестовой выборке на основе глубоких нейронных сетей\n",
    "__Выполнил:__ *Домченко Максим*\n",
    "\n",
    "__Студент группы:__ *РИМ-130962*"
   ],
   "id": "1c86bb0689a82dd2"
  },
  {
   "metadata": {
    "jupyter": {
     "is_executing": true
    }
   },
   "cell_type": "code",
   "source": [
    "!pip install kaggle\n",
    "!kaggle competitions download -c favorita-grocery-sales-forecasting"
   ],
   "id": "a2651dd3615738",
   "outputs": [],
   "execution_count": null
  }
 ],
 "metadata": {
  "kernelspec": {
   "display_name": "Python 3",
   "language": "python",
   "name": "python3"
  },
  "language_info": {
   "codemirror_mode": {
    "name": "ipython",
    "version": 2
   },
   "file_extension": ".py",
   "mimetype": "text/x-python",
   "name": "python",
   "nbconvert_exporter": "python",
   "pygments_lexer": "ipython2",
   "version": "2.7.6"
  }
 },
 "nbformat": 4,
 "nbformat_minor": 5
}
