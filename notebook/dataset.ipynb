{
 "cells": [
  {
   "metadata": {
    "id": "1c86bb0689a82dd2"
   },
   "cell_type": "markdown",
   "source": [
    "# Прогнозирование цен потребительского ритейла по тестовой выборке на основе глубоких нейронных сетей\n",
    "__Выполнил:__ *Домченко Максим*\n",
    "\n",
    "__Студент группы:__ *РИМ-130962*"
   ],
   "id": "1c86bb0689a82dd2"
  },
  {
   "metadata": {},
   "cell_type": "code",
   "outputs": [],
   "execution_count": null,
   "source": [
    "# Для локального запуска загрузите kaggle.json в ~/.kaggle/kaggle.json и дайте права:\n",
    "# !chmod 600 ~/.kaggle/kaggle.json"
   ],
   "id": "8551fa3d931a5643"
  },
  {
   "metadata": {
    "ExecuteTime": {
     "end_time": "2025-05-02T15:51:36.853257Z",
     "start_time": "2025-05-02T15:51:36.850625Z"
    }
   },
   "cell_type": "code",
   "source": [
    "# Для запуска в colab\n",
    "\n",
    "# from google.colab import files\n",
    "# uploaded = files.upload('/root/.kaggle')\n",
    "# !chmod 600 /root/.kaggle/kaggle.json"
   ],
   "id": "17d70921269c77cb",
   "outputs": [],
   "execution_count": 16
  },
  {
   "metadata": {
    "id": "a2651dd3615738",
    "outputId": "6e5c0121-320f-4fb1-ac8a-c7373d0f758d",
    "colab": {
     "base_uri": "https://localhost:8080/"
    },
    "ExecuteTime": {
     "end_time": "2025-05-02T15:51:29.577445Z",
     "start_time": "2025-05-02T15:49:35.402018Z"
    }
   },
   "cell_type": "code",
   "source": "!kaggle competitions download -p ../content -c favorita-grocery-sales-forecasting --force",
   "id": "a2651dd3615738",
   "outputs": [
    {
     "name": "stdout",
     "output_type": "stream",
     "text": [
      "Downloading favorita-grocery-sales-forecasting.zip to ../content\r\n",
      " 61%|████████████████████████▍               | 280M/458M [00:00<00:00, 2.93GB/s]\r\n",
      "100%|████████████████████████████████████████| 458M/458M [00:00<00:00, 2.92GB/s]\r\n"
     ]
    }
   ],
   "execution_count": 14
  }
 ],
 "metadata": {
  "kernelspec": {
   "display_name": "Python 3",
   "language": "python",
   "name": "python3"
  },
  "language_info": {
   "codemirror_mode": {
    "name": "ipython",
    "version": 2
   },
   "file_extension": ".py",
   "mimetype": "text/x-python",
   "name": "python",
   "nbconvert_exporter": "python",
   "pygments_lexer": "ipython2",
   "version": "2.7.6"
  },
  "colab": {
   "provenance": []
  }
 },
 "nbformat": 4,
 "nbformat_minor": 5
}
