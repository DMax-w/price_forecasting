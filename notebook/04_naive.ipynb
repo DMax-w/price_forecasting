{
 "nbformat": 4,
 "nbformat_minor": 0,
 "metadata": {
  "colab": {
   "provenance": [],
   "gpuType": "V28",
   "authorship_tag": "ABX9TyMadF2icsRwq+qi5vct1MnS"
  },
  "kernelspec": {
   "name": "python3",
   "display_name": "Python 3"
  },
  "language_info": {
   "name": "python"
  },
  "accelerator": "TPU"
 },
 "cells": [
  {
   "metadata": {
    "id": "e33b573e8bfe3416"
   },
   "cell_type": "markdown",
   "source": [
    "# Прогнозирование цен потребительского ритейла по тестовой выборке на основе глубоких нейронных сетей\n",
    "__Выполнил:__ *Домченко Максим*\n",
    "\n",
    "__Студент группы:__ *РИМ-130962*"
   ]
  },
  {
   "cell_type": "markdown",
   "source": [
    "#### Подключаем Google Drive и задаём корневую папку проекта"
   ],
   "metadata": {
    "id": "pBFifS9m1voj"
   }
  },
  {
   "cell_type": "code",
   "source": [
    "#  ===== 0. Подключаем Google Drive и задаём корневую папку проекта =====\n",
    "from pathlib import Path\n",
    "import sys, os\n",
    "\n",
    "try:\n",
    "    # вариант Colab\n",
    "    from google.colab import drive\n",
    "    drive.mount('/content/drive')\n",
    "    GDRIVE_ROOT = Path(\"/content/drive/MyDrive\")\n",
    "except (ModuleNotFoundError, ValueError):\n",
    "    # локальный Jupyter + Google Drive for desktop\n",
    "    #   (проверьте, где именно у вас смонтирован «Мой Диск»)\n",
    "    possible = [\n",
    "        Path.home() / \"Google Drive\",\n",
    "        Path.home() / \"Мой диск\"            # рус. версия клиента\n",
    "    ]\n",
    "    GDRIVE_ROOT = next((p for p in possible if p.exists()), None)\n",
    "    if GDRIVE_ROOT is None:\n",
    "        sys.exit(\"Папка Google Drive не найдена. Проверьте путь.\")\n",
    "\n",
    "# ────────────────────────────────────────────────────────────────────────\n",
    "PROJECT_DIR = GDRIVE_ROOT / \"price_forecasting\"\n",
    "PROJECT_DIR.mkdir(parents=True, exist_ok=True)\n",
    "\n",
    "# Единая «точка входа» для остальных путей\n",
    "ROOT                     = PROJECT_DIR\n",
    "DATA                     = ROOT / \"data\"               # сырые и промежуточные датасеты\n",
    "MODEL_READY              = DATA / \"model_ready\"\n",
    "SPLITS_WF                = MODEL_READY / \"splits_wf\"\n",
    "ARTIFACTS                = ROOT / \"artifacts\"          # модели, метрики, изображения\n",
    "PLOTS                    = ARTIFACTS / \"plots\"\n",
    "MODELS                   = ARTIFACTS / \"models\"\n",
    "PREDICTIONS              = ARTIFACTS / \"predictions\"\n",
    "METRICS                  = ARTIFACTS / \"metrics\"\n",
    "\n",
    "for d in (DATA, MODEL_READY, SPLITS_WF, ARTIFACTS, PLOTS, MODELS, PREDICTIONS, METRICS):\n",
    "    d.mkdir(parents=True, exist_ok=True)\n",
    "\n",
    "print(f\"Все файлы читаем/пишем в: {ROOT}\")"
   ],
   "metadata": {
    "colab": {
     "base_uri": "https://localhost:8080/"
    },
    "id": "rC9f0sKdKvsB",
    "executionInfo": {
     "status": "ok",
     "timestamp": 1746968494065,
     "user_tz": -180,
     "elapsed": 17187,
     "user": {
      "displayName": "Maksim Domchenko",
      "userId": "11216463531516536741"
     }
    },
    "outputId": "12872cd5-0b09-4474-a786-2e4ceb99efbb"
   },
   "execution_count": null,
   "outputs": [
    {
     "output_type": "stream",
     "name": "stdout",
     "text": [
      "Mounted at /content/drive\n",
      "Все файлы читаем/пишем в: /content/drive/MyDrive/price_forecasting\n"
     ]
    }
   ]
  },
  {
   "cell_type": "code",
   "source": [
    "# ── Шаг-1. Чтение данных и мета-описания ─────────────────────\n",
    "import pandas as pd, numpy as np, json\n",
    "\n",
    "DF_PATH   = MODEL_READY / \"dataset.parquet\"\n",
    "META_PATH = MODEL_READY / \"features.json\"\n",
    "\n",
    "df   = pd.read_parquet(DF_PATH)\n",
    "meta = json.load(open(META_PATH))\n",
    "\n",
    "TARGET = meta[\"target_log\"]          # лог-цена через 28 дней\n",
    "\n",
    "print(\"Data shape :\", df.shape)\n",
    "print(\"Target col :\", TARGET)"
   ],
   "metadata": {
    "colab": {
     "base_uri": "https://localhost:8080/"
    },
    "id": "syGLBlugWIbk",
    "executionInfo": {
     "status": "ok",
     "timestamp": 1746968515320,
     "user_tz": -180,
     "elapsed": 21246,
     "user": {
      "displayName": "Maksim Domchenko",
      "userId": "11216463531516536741"
     }
    },
    "outputId": "c383f983-cedd-452c-8284-8e1029f60484"
   },
   "execution_count": null,
   "outputs": [
    {
     "output_type": "stream",
     "name": "stdout",
     "text": [
      "Data shape : (57473650, 50)\n",
      "Target col : target_log\n"
     ]
    }
   ]
  },
  {
   "cell_type": "code",
   "source": [
    "# ── Шаг-2. Наивный прогноз t-28  + метрики ────────────\n",
    "from sklearn.metrics import mean_squared_error\n",
    "from datetime import datetime\n",
    "import numpy as np\n",
    "\n",
    "def smape(actual, forecast):\n",
    "    return 100 * np.mean(\n",
    "        np.abs(forecast - actual) /\n",
    "        ((np.abs(actual) + np.abs(forecast)) / 2)\n",
    "    )\n",
    "\n",
    "HORIZON = 28\n",
    "fold_results = []\n",
    "\n",
    "for k in range(3):\n",
    "    tr_idx = np.load(SPLITS_WF / f\"wf_train_idx_k{k}.npy\")\n",
    "    vl_idx = np.load(SPLITS_WF / f\"wf_val_idx_k{k}.npy\")\n",
    "\n",
    "    y_val  = df.loc[vl_idx, TARGET].values.astype(\"float32\")\n",
    "    y_pred = df.loc[vl_idx - HORIZON, TARGET].values.astype(\"float32\")\n",
    "\n",
    "    mse   = mean_squared_error(y_val, y_pred)   # только MSE\n",
    "    rmse  = float(np.sqrt(mse))                 # берём корень вручную\n",
    "    s_mp  = float(smape(y_val, y_pred))\n",
    "\n",
    "    np.save(PREDICTIONS / f\"preds_naive_k{k}.npy\", y_pred)\n",
    "\n",
    "    fold_results.append({\"fold\": k, \"rmse_log\": rmse, \"smape\": s_mp})\n",
    "    print(f\"fold {k}: RMSE={rmse:.4f} | sMAPE={s_mp:.2f}%\")\n"
   ],
   "metadata": {
    "colab": {
     "base_uri": "https://localhost:8080/"
    },
    "id": "uxfc0aiNYzpS",
    "executionInfo": {
     "status": "ok",
     "timestamp": 1746968532502,
     "user_tz": -180,
     "elapsed": 17179,
     "user": {
      "displayName": "Maksim Domchenko",
      "userId": "11216463531516536741"
     }
    },
    "outputId": "47e6f765-051e-494e-caa9-92ad3fb0139a"
   },
   "execution_count": null,
   "outputs": [
    {
     "output_type": "stream",
     "name": "stdout",
     "text": [
      "fold 0: RMSE=0.5483 | sMAPE=34.23%\n",
      "fold 1: RMSE=0.6914 | sMAPE=36.89%\n",
      "fold 2: RMSE=0.7251 | sMAPE=37.29%\n"
     ]
    }
   ]
  },
  {
   "cell_type": "code",
   "source": [
    "# ── Шаг-3. Сохраняем правило «наивного» предсказания ─────────\n",
    "import pickle\n",
    "\n",
    "naive_descr = {\n",
    "    \"type\"     : \"naive_seasonal\",\n",
    "    \"shift\"    : HORIZON,\n",
    "    \"target\"   : TARGET,\n",
    "    \"created\"  : datetime.now().isoformat(timespec=\"seconds\")\n",
    "}\n",
    "\n",
    "with open(MODELS / \"naive_model.pkl\", \"wb\") as fp:\n",
    "    pickle.dump(naive_descr, fp)\n",
    "\n",
    "print(\"✔ Модель-описание naive_model.pkl сохранено\")\n"
   ],
   "metadata": {
    "colab": {
     "base_uri": "https://localhost:8080/"
    },
    "id": "JqZyxvWQZNw8",
    "executionInfo": {
     "status": "ok",
     "timestamp": 1746968532724,
     "user_tz": -180,
     "elapsed": 215,
     "user": {
      "displayName": "Maksim Domchenko",
      "userId": "11216463531516536741"
     }
    },
    "outputId": "ddb9a299-0356-4c83-9061-6c2eba96133a"
   },
   "execution_count": null,
   "outputs": [
    {
     "output_type": "stream",
     "name": "stdout",
     "text": [
      "✔ Модель-описание naive_model.pkl сохранено\n"
     ]
    }
   ]
  },
  {
   "cell_type": "code",
   "source": [
    "# ── Шаг-4. Записываем метрики в JSON ─────────────────────────\n",
    "import json, pathlib\n",
    "\n",
    "metrics_path = METRICS / \"metrics_naive.json\"\n",
    "json.dump(\n",
    "    {\"timestamp\": datetime.now().isoformat(timespec=\"seconds\"),\n",
    "     \"results\"  : fold_results},\n",
    "    open(metrics_path, \"w\"),\n",
    "    indent=2\n",
    ")\n",
    "\n",
    "print(\"✔ Метрики сохранены →\", metrics_path.relative_to(PROJECT_DIR))\n"
   ],
   "metadata": {
    "colab": {
     "base_uri": "https://localhost:8080/"
    },
    "id": "FGDXXeSiZRYX",
    "executionInfo": {
     "status": "ok",
     "timestamp": 1746968532984,
     "user_tz": -180,
     "elapsed": 255,
     "user": {
      "displayName": "Maksim Domchenko",
      "userId": "11216463531516536741"
     }
    },
    "outputId": "ec2e1e44-d7a6-4546-cfe2-35101ce33801"
   },
   "execution_count": null,
   "outputs": [
    {
     "output_type": "stream",
     "name": "stdout",
     "text": [
      "✔ Метрики сохранены → artifacts/metrics/metrics_naive.json\n"
     ]
    }
   ]
  },
  {
   "cell_type": "code",
   "source": [
    "import json, pandas as pd\n",
    "\n",
    "metrics_path = METRICS / \"metrics_naive.json\"\n",
    "naive_report = json.load(open(metrics_path))\n",
    "\n",
    "df_metrics = pd.DataFrame(naive_report[\"results\"])\n",
    "df_metrics[\"rmse_log\"] = df_metrics[\"rmse_log\"].round(4)\n",
    "df_metrics[\"smape\"]    = df_metrics[\"smape\"].round(2)\n",
    "\n",
    "display(df_metrics.style.set_caption(\"Naïve Seasonal – метрики по фолдам\"))\n",
    "print(\"\\nСредние значения 3-х фолдов:\")\n",
    "print(df_metrics[[\"rmse_log\",\"smape\"]].mean().rename({\"rmse_log\":\"RMSE(log)\",\n",
    "                                                      \"smape\":\"sMAPE(%)\"}))\n"
   ],
   "metadata": {
    "colab": {
     "base_uri": "https://localhost:8080/",
     "height": 265
    },
    "id": "8OqW--KsbxmS",
    "executionInfo": {
     "status": "ok",
     "timestamp": 1746968533100,
     "user_tz": -180,
     "elapsed": 115,
     "user": {
      "displayName": "Maksim Domchenko",
      "userId": "11216463531516536741"
     }
    },
    "outputId": "779c7928-5125-4fa2-93b9-a31615d5637c"
   },
   "execution_count": null,
   "outputs": [
    {
     "output_type": "display_data",
     "data": {
      "text/plain": [
       "<pandas.io.formats.style.Styler at 0x7d7434ce7f90>"
      ],
      "text/html": [
       "<style type=\"text/css\">\n",
       "</style>\n",
       "<table id=\"T_1641f\" class=\"dataframe\">\n",
       "  <caption>Naïve Seasonal – метрики по фолдам</caption>\n",
       "  <thead>\n",
       "    <tr>\n",
       "      <th class=\"blank level0\" >&nbsp;</th>\n",
       "      <th id=\"T_1641f_level0_col0\" class=\"col_heading level0 col0\" >fold</th>\n",
       "      <th id=\"T_1641f_level0_col1\" class=\"col_heading level0 col1\" >rmse_log</th>\n",
       "      <th id=\"T_1641f_level0_col2\" class=\"col_heading level0 col2\" >smape</th>\n",
       "    </tr>\n",
       "  </thead>\n",
       "  <tbody>\n",
       "    <tr>\n",
       "      <th id=\"T_1641f_level0_row0\" class=\"row_heading level0 row0\" >0</th>\n",
       "      <td id=\"T_1641f_row0_col0\" class=\"data row0 col0\" >0</td>\n",
       "      <td id=\"T_1641f_row0_col1\" class=\"data row0 col1\" >0.548300</td>\n",
       "      <td id=\"T_1641f_row0_col2\" class=\"data row0 col2\" >34.230000</td>\n",
       "    </tr>\n",
       "    <tr>\n",
       "      <th id=\"T_1641f_level0_row1\" class=\"row_heading level0 row1\" >1</th>\n",
       "      <td id=\"T_1641f_row1_col0\" class=\"data row1 col0\" >1</td>\n",
       "      <td id=\"T_1641f_row1_col1\" class=\"data row1 col1\" >0.691400</td>\n",
       "      <td id=\"T_1641f_row1_col2\" class=\"data row1 col2\" >36.890000</td>\n",
       "    </tr>\n",
       "    <tr>\n",
       "      <th id=\"T_1641f_level0_row2\" class=\"row_heading level0 row2\" >2</th>\n",
       "      <td id=\"T_1641f_row2_col0\" class=\"data row2 col0\" >2</td>\n",
       "      <td id=\"T_1641f_row2_col1\" class=\"data row2 col1\" >0.725100</td>\n",
       "      <td id=\"T_1641f_row2_col2\" class=\"data row2 col2\" >37.290000</td>\n",
       "    </tr>\n",
       "  </tbody>\n",
       "</table>\n"
      ]
     },
     "metadata": {}
    },
    {
     "output_type": "stream",
     "name": "stdout",
     "text": [
      "\n",
      "Средние значения 3-х фолдов:\n",
      "RMSE(log)     0.654933\n",
      "sMAPE(%)     36.136667\n",
      "dtype: float64\n"
     ]
    }
   ]
  },
  {
   "cell_type": "code",
   "source": [
    "import matplotlib.pyplot as plt\n",
    "import numpy as np\n",
    "\n",
    "# загрузим предсказания и реальное y для k0\n",
    "y_val_k0  = df.loc[np.load(SPLITS_WF/'wf_val_idx_k0.npy'), TARGET].values\n",
    "y_pred_k0 = np.load(PREDICTIONS/'preds_naive_k0.npy')\n",
    "\n",
    "plt.figure(figsize=(6,4))\n",
    "plt.hist(y_val_k0 - y_pred_k0, bins=100)\n",
    "plt.title(\"Naïve: распределение ошибки (y_val - y_pred), fold 0\")\n",
    "plt.xlabel(\"Ошибка (log-цена)\")\n",
    "plt.ylabel(\"Кол-во наблюдений\")\n",
    "plt.show()\n"
   ],
   "metadata": {
    "id": "ar-rQLAicJMx",
    "executionInfo": {
     "status": "ok",
     "timestamp": 1746968551785,
     "user_tz": -180,
     "elapsed": 1316,
     "user": {
      "displayName": "Maksim Domchenko",
      "userId": "11216463531516536741"
     }
    },
    "outputId": "44fcd6f6-e766-4399-be12-8d207954e342",
    "colab": {
     "base_uri": "https://localhost:8080/",
     "height": 410
    }
   },
   "execution_count": null,
   "outputs": [
    {
     "output_type": "display_data",
     "data": {
      "text/plain": [
       "<Figure size 600x400 with 1 Axes>"
      ],
      "image/png": "[encoded data removed]"
     },
     "metadata": {}
    }
   ]
  },
  {
   "cell_type": "markdown",
   "source": [
    "Пик распределения ошибки около нуля, но «толстый» правый хвост > 0.5 говорит, что часть SKU заметно дорожает за 4 недели — простое повторение t-28 тут промахивается.\n",
    "\n",
    "Эти значения станут ориентиром: любая следующая модель должна выбить RMSE < 0.55 и sMAPE < 34 % хотя бы на первом фолде, чтобы считаться улучшением."
   ],
   "metadata": {
    "id": "lofUTrRgiFvt"
   }
  }
 ]
}
